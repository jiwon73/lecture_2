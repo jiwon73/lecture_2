{
 "cells": [
  {
   "cell_type": "code",
   "execution_count": 2,
   "metadata": {},
   "outputs": [
    {
     "name": "stdout",
     "output_type": "stream",
     "text": [
      "2\n",
      "(2, 3, 4)\n"
     ]
    }
   ],
   "source": [
    "tup_data_1=(1,2,3,4)\n",
    "print(tup_data_1[1])\n",
    "print(tup_data_1[1:])"
   ]
  },
  {
   "cell_type": "code",
   "execution_count": 11,
   "metadata": {},
   "outputs": [
    {
     "data": {
      "text/plain": [
       "3"
      ]
     },
     "execution_count": 11,
     "metadata": {},
     "output_type": "execute_result"
    }
   ],
   "source": [
    "tup_data_1=(1,2,3,4,4,4)\n",
    "tup_data_1.count(4)"
   ]
  },
  {
   "cell_type": "code",
   "execution_count": 5,
   "metadata": {},
   "outputs": [
    {
     "data": {
      "text/plain": [
       "1"
      ]
     },
     "execution_count": 5,
     "metadata": {},
     "output_type": "execute_result"
    }
   ],
   "source": [
    "tup_data_1=(1,2,3,4)\n",
    "tup_data_1.index(2)"
   ]
  },
  {
   "cell_type": "code",
   "execution_count": 12,
   "metadata": {},
   "outputs": [
    {
     "name": "stdout",
     "output_type": "stream",
     "text": [
      "(1, 2, 3, 4, 4, 4, 4, 2, 3, 4, 5, 6, 7, 4)\n"
     ]
    }
   ],
   "source": [
    "tup_data_1=(1,2,3,4,4,4,4)\n",
    "tup_data_2=(2,3,4,5,6,7,4)\n",
    "\n",
    "tup_data_3=tup_data_1+tup_data_2\n",
    "print(tup_data_3)"
   ]
  },
  {
   "cell_type": "code",
   "execution_count": 20,
   "metadata": {},
   "outputs": [
    {
     "name": "stdout",
     "output_type": "stream",
     "text": [
      "7\n"
     ]
    }
   ],
   "source": [
    "tup_data_1=(1,2,3,4,4,4,4)\n",
    "tup_data_2=(2,3,4,5,6,7,4)\n",
    "\n",
    "tup_data_4=tup_data_1[2]+tup_data_2[2]\n",
    "\n",
    "print(tup_data_4)"
   ]
  }
 ],
 "metadata": {
  "kernelspec": {
   "display_name": "Python 3",
   "language": "python",
   "name": "python3"
  },
  "language_info": {
   "codemirror_mode": {
    "name": "ipython",
    "version": 3
   },
   "file_extension": ".py",
   "mimetype": "text/x-python",
   "name": "python",
   "nbconvert_exporter": "python",
   "pygments_lexer": "ipython3",
   "version": "3.8.4"
  }
 },
 "nbformat": 4,
 "nbformat_minor": 4
}

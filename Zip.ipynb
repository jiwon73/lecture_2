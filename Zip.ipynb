{
 "cells": [
  {
   "cell_type": "code",
   "execution_count": 5,
   "metadata": {},
   "outputs": [
    {
     "name": "stdout",
     "output_type": "stream",
     "text": [
      "<zip object at 0x05B04288>\n",
      "(10, 'ten')\n",
      "(20, 'twenty')\n",
      "(30, 'thirty')\n",
      "(30, 'thirty')\n"
     ]
    }
   ],
   "source": [
    "a=[10,20,30]\n",
    "b=('ten','twenty','thirty')\n",
    "type(zip(a,b))\n",
    "\n",
    "data=zip(a,b)\n",
    "print(data)\n",
    "\n",
    "for val in data:\n",
    "    print(val)\n",
    "\n",
    "print(val)"
   ]
  },
  {
   "cell_type": "code",
   "execution_count": 10,
   "metadata": {},
   "outputs": [
    {
     "name": "stdout",
     "output_type": "stream",
     "text": [
      "(10, 'ten')\n",
      "[(10, 'ten')]\n",
      "(20, 'twenty')\n",
      "[(10, 'ten'), (20, 'twenty')]\n",
      "(30, 'thirty')\n",
      "[(10, 'ten'), (20, 'twenty'), (30, 'thirty')]\n",
      "{(30, 'thirty'), (10, 'ten'), (20, 'twenty')}\n"
     ]
    }
   ],
   "source": [
    "a=[10,20,30]\n",
    "b=('ten','twenty','thirty')\n",
    "type(zip(a,b))\n",
    "\n",
    "data=zip(a,b)\n",
    "\n",
    "val_list=[]\n",
    "\n",
    "for val in data:\n",
    "    print(val)\n",
    "    \n",
    "    #val_list=[]/ 지역변수라서 계속 초기화됨, 전역변수로 지정해야함\n",
    "    \n",
    "    val_list.append(val)\n",
    "    print(val_list)\n",
    "    \n",
    "val_set=set(val_list)\n",
    "print(val_set)\n"
   ]
  },
  {
   "cell_type": "code",
   "execution_count": null,
   "metadata": {},
   "outputs": [],
   "source": []
  }
 ],
 "metadata": {
  "kernelspec": {
   "display_name": "Python 3",
   "language": "python",
   "name": "python3"
  },
  "language_info": {
   "codemirror_mode": {
    "name": "ipython",
    "version": 3
   },
   "file_extension": ".py",
   "mimetype": "text/x-python",
   "name": "python",
   "nbconvert_exporter": "python",
   "pygments_lexer": "ipython3",
   "version": "3.8.4"
  }
 },
 "nbformat": 4,
 "nbformat_minor": 4
}

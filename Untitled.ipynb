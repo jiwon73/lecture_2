{
 "cells": [
  {
   "cell_type": "markdown",
   "metadata": {},
   "source": [
    "# Dictionary"
   ]
  },
  {
   "cell_type": "code",
   "execution_count": 13,
   "metadata": {},
   "outputs": [
    {
     "name": "stdout",
     "output_type": "stream",
     "text": [
      "3\n",
      "2\n",
      "3\n"
     ]
    }
   ],
   "source": [
    "people_info={'성':'홍','이름':'길동','직장':'강남'}\n",
    "people_info_list=[{'성':'홍','이름':'길동','직장':'강남'},{'성':'김','이름':'태경','직장':'홍대'}]\n",
    "print(len(pepople_info))\n",
    "print(len(people_info_list))\n",
    "print(len(people_info_list[0]))"
   ]
  },
  {
   "cell_type": "code",
   "execution_count": 14,
   "metadata": {},
   "outputs": [
    {
     "name": "stdout",
     "output_type": "stream",
     "text": [
      "길동\n",
      "강남\n"
     ]
    }
   ],
   "source": [
    "people_info={'성':'홍','이름':'길동','직장':'강남'}\n",
    "\n",
    "print(pepople_info['이름'])\n",
    "print(pepople_info['직장'])\n",
    "\n",
    "#key값을 호출해야 Value가 나옴"
   ]
  },
  {
   "cell_type": "code",
   "execution_count": 15,
   "metadata": {},
   "outputs": [
    {
     "name": "stdout",
     "output_type": "stream",
     "text": [
      "dict_keys(['성', '이름', '직장'])\n",
      "dict_values(['홍', '길동', '강남'])\n"
     ]
    }
   ],
   "source": [
    "people_info={'성':'홍','이름':'길동','직장':'강남'}\n",
    "\n",
    "print(people_info.keys())\n",
    "print(people_info.values())\n",
    "\n",
    "#데이터가 리스트로 반환"
   ]
  },
  {
   "cell_type": "code",
   "execution_count": 16,
   "metadata": {},
   "outputs": [
    {
     "data": {
      "text/plain": [
       "list"
      ]
     },
     "execution_count": 16,
     "metadata": {},
     "output_type": "execute_result"
    }
   ],
   "source": [
    "pepople_info={'성':'홍','이름':'길동','직장':'강남'}\n",
    "\n",
    "key_list=list(people_info.keys())\n",
    "type(key_list)"
   ]
  },
  {
   "cell_type": "code",
   "execution_count": 18,
   "metadata": {},
   "outputs": [
    {
     "data": {
      "text/plain": [
       "'이름'"
      ]
     },
     "execution_count": 18,
     "metadata": {},
     "output_type": "execute_result"
    }
   ],
   "source": [
    "list(people_info.keys())[1]"
   ]
  },
  {
   "cell_type": "code",
   "execution_count": 20,
   "metadata": {},
   "outputs": [
    {
     "name": "stdout",
     "output_type": "stream",
     "text": [
      "{'성': '홍', '이름': '태경', '직장': '강남'}\n"
     ]
    }
   ],
   "source": [
    "people_info={'성':'홍','이름':'길동','직장':'강남'}\n",
    "\n",
    "people_info['이름']='태경'\n",
    "\n",
    "print(people_info)"
   ]
  },
  {
   "cell_type": "code",
   "execution_count": 22,
   "metadata": {},
   "outputs": [
    {
     "name": "stdout",
     "output_type": "stream",
     "text": [
      "{'성': '홍', '이름': '길동'}\n"
     ]
    }
   ],
   "source": [
    "people_info={'성':'홍','이름':'길동','직장':'강남'}\n",
    "\n",
    "del people_info['직장']\n",
    "\n",
    "print(people_info)"
   ]
  },
  {
   "cell_type": "code",
   "execution_count": 23,
   "metadata": {},
   "outputs": [
    {
     "name": "stdout",
     "output_type": "stream",
     "text": [
      "{'성': '홍', '이름': '길동', '직장': '강남', '취미': '테니스'}\n"
     ]
    }
   ],
   "source": [
    "people_info={'성':'홍','이름':'길동','직장':'강남'}\n",
    "\n",
    "people_info['취미']='테니스'\n",
    "\n",
    "print(people_info)"
   ]
  },
  {
   "cell_type": "code",
   "execution_count": 24,
   "metadata": {},
   "outputs": [
    {
     "data": {
      "text/plain": [
       "True"
      ]
     },
     "execution_count": 24,
     "metadata": {},
     "output_type": "execute_result"
    }
   ],
   "source": [
    "people_info={'성':'홍','이름':'길동','직장':'강남'}\n",
    "\n",
    "'성' in people_info"
   ]
  },
  {
   "cell_type": "code",
   "execution_count": 25,
   "metadata": {},
   "outputs": [
    {
     "data": {
      "text/plain": [
       "False"
      ]
     },
     "execution_count": 25,
     "metadata": {},
     "output_type": "execute_result"
    }
   ],
   "source": [
    "people_info={'성':'홍','이름':'길동','직장':'강남'}\n",
    "\n",
    "'홍' in people_info #key값만 확인가능"
   ]
  },
  {
   "cell_type": "code",
   "execution_count": 27,
   "metadata": {},
   "outputs": [
    {
     "data": {
      "text/plain": [
       "True"
      ]
     },
     "execution_count": 27,
     "metadata": {},
     "output_type": "execute_result"
    }
   ],
   "source": [
    "people_info={'성':'홍','이름':'길동','직장':'강남'}\n",
    "\n",
    "'홍' in people_info['성']"
   ]
  },
  {
   "cell_type": "code",
   "execution_count": 28,
   "metadata": {},
   "outputs": [
    {
     "data": {
      "text/plain": [
       "False"
      ]
     },
     "execution_count": 28,
     "metadata": {},
     "output_type": "execute_result"
    }
   ],
   "source": [
    "people_info={'성':'홍','이름':'길동','직장':'강남'}\n",
    "\n",
    "'성' not in people_info"
   ]
  },
  {
   "cell_type": "code",
   "execution_count": 31,
   "metadata": {},
   "outputs": [
    {
     "data": {
      "text/plain": [
       "False"
      ]
     },
     "execution_count": 31,
     "metadata": {},
     "output_type": "execute_result"
    }
   ],
   "source": [
    "people_info_1={'성':'홍','이름':'길동','직장':'강남'}\n",
    "people_info_2={'성':'김','이름':'태경','직장':'강남'}\n",
    "\n",
    "people_info_1==people_info_2"
   ]
  },
  {
   "cell_type": "code",
   "execution_count": 32,
   "metadata": {},
   "outputs": [
    {
     "name": "stdout",
     "output_type": "stream",
     "text": [
      "[{'성': '홍', '이름': '길동', '직장': '강남'}, {'성': '김', '이름': '태경', '직장': '강남'}]\n"
     ]
    }
   ],
   "source": [
    "people_info_1={'성':'홍','이름':'길동','직장':'강남'}\n",
    "people_info_2={'성':'김','이름':'태경','직장':'강남'}\n",
    "\n",
    "people=[]\n",
    "\n",
    "people.append(people_info_1)\n",
    "people.append(people_info_2)\n",
    "\n",
    "print(people)"
   ]
  },
  {
   "cell_type": "code",
   "execution_count": 36,
   "metadata": {
    "scrolled": true
   },
   "outputs": [
    {
     "name": "stdout",
     "output_type": "stream",
     "text": [
      "{}\n"
     ]
    }
   ],
   "source": [
    "people_info_1={'성':'홍','이름':'길동','직장':'강남'}\n",
    "\n",
    "people_info_1.clear()\n",
    "\n",
    "print(people_info_1)\n"
   ]
  },
  {
   "cell_type": "code",
   "execution_count": 39,
   "metadata": {},
   "outputs": [
    {
     "name": "stdout",
     "output_type": "stream",
     "text": [
      "{'성': '김', '이름': '태경', '직장': '강남', '취미': '달리기'}\n"
     ]
    }
   ],
   "source": [
    "people_info_1={'성':'홍','이름':'길동','직장':'강남','취미':'테니스'}\n",
    "people_info_2={'성':'김','이름':'태경','직장':'강남','취미':'달리기'}\n",
    "\n",
    "people_info_1.update(people_info_2)\n",
    "print(people_info_1)"
   ]
  },
  {
   "cell_type": "code",
   "execution_count": 41,
   "metadata": {},
   "outputs": [
    {
     "name": "stdout",
     "output_type": "stream",
     "text": [
      "{'성': '홍', '이름': '길동', '직장': '강남', '취미': '테니스', '주소': '서울시', '나이': '25'}\n"
     ]
    }
   ],
   "source": [
    "people_info_1={'성':'홍','이름':'길동','직장':'강남','취미':'테니스'}\n",
    "people_info_2={'주소':'서울시','나이':'25'}\n",
    "\n",
    "people_info_1.update(people_info_2)\n",
    "print(people_info_1)"
   ]
  }
 ],
 "metadata": {
  "kernelspec": {
   "display_name": "Python 3",
   "language": "python",
   "name": "python3"
  },
  "language_info": {
   "codemirror_mode": {
    "name": "ipython",
    "version": 3
   },
   "file_extension": ".py",
   "mimetype": "text/x-python",
   "name": "python",
   "nbconvert_exporter": "python",
   "pygments_lexer": "ipython3",
   "version": "3.8.4"
  }
 },
 "nbformat": 4,
 "nbformat_minor": 4
}
